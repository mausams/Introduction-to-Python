{
 "cells": [
  {
   "cell_type": "code",
   "execution_count": 2,
   "id": "215c8718",
   "metadata": {},
   "outputs": [],
   "source": [
    "elements=[2,3,7,9,8,6]"
   ]
  },
  {
   "cell_type": "code",
   "execution_count": 4,
   "id": "6fe6d5bd",
   "metadata": {},
   "outputs": [
    {
     "name": "stdout",
     "output_type": "stream",
     "text": [
      "2\n",
      "3\n",
      "7\n",
      "9\n",
      "8\n",
      "6\n"
     ]
    }
   ],
   "source": [
    "for i in elements:\n",
    "    print (i)"
   ]
  },
  {
   "cell_type": "code",
   "execution_count": null,
   "id": "cb351900",
   "metadata": {},
   "outputs": [],
   "source": []
  }
 ],
 "metadata": {
  "kernelspec": {
   "display_name": "Python 3 (ipykernel)",
   "language": "python",
   "name": "python3"
  },
  "language_info": {
   "codemirror_mode": {
    "name": "ipython",
    "version": 3
   },
   "file_extension": ".py",
   "mimetype": "text/x-python",
   "name": "python",
   "nbconvert_exporter": "python",
   "pygments_lexer": "ipython3",
   "version": "3.9.12"
  }
 },
 "nbformat": 4,
 "nbformat_minor": 5
}
