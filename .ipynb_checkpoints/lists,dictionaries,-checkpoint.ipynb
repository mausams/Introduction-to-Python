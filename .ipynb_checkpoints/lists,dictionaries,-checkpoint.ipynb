{
 "cells": [
  {
   "cell_type": "code",
   "execution_count": 3,
   "id": "84b27b2f",
   "metadata": {},
   "outputs": [],
   "source": [
    "#Lists"
   ]
  },
  {
   "cell_type": "code",
   "execution_count": 4,
   "id": "6dab728d",
   "metadata": {},
   "outputs": [],
   "source": [
    "my_list=[1,2,3,4,5]"
   ]
  },
  {
   "cell_type": "code",
   "execution_count": 5,
   "id": "0e13d340",
   "metadata": {},
   "outputs": [
    {
     "data": {
      "text/plain": [
       "[1, 2, 3, 4, 5]"
      ]
     },
     "execution_count": 5,
     "metadata": {},
     "output_type": "execute_result"
    }
   ],
   "source": [
    "my_list"
   ]
  },
  {
   "cell_type": "code",
   "execution_count": 7,
   "id": "458562fa",
   "metadata": {},
   "outputs": [],
   "source": [
    "mystring='Hello'"
   ]
  },
  {
   "cell_type": "raw",
   "id": "619814f4",
   "metadata": {},
   "source": [
    "mystring.split()"
   ]
  },
  {
   "cell_type": "code",
   "execution_count": 19,
   "id": "a1fb52ab",
   "metadata": {},
   "outputs": [
    {
     "data": {
      "text/plain": [
       "['Hello']"
      ]
     },
     "execution_count": 19,
     "metadata": {},
     "output_type": "execute_result"
    }
   ],
   "source": [
    "mystring.split('E')"
   ]
  },
  {
   "cell_type": "code",
   "execution_count": 9,
   "id": "92bbb301",
   "metadata": {},
   "outputs": [
    {
     "data": {
      "text/plain": [
       "[1, 2, 3, 4, 5]"
      ]
     },
     "execution_count": 9,
     "metadata": {},
     "output_type": "execute_result"
    }
   ],
   "source": [
    " my_list"
   ]
  },
  {
   "cell_type": "code",
   "execution_count": 20,
   "id": "9023d923",
   "metadata": {},
   "outputs": [
    {
     "data": {
      "text/plain": [
       "['H', 'llo']"
      ]
     },
     "execution_count": 20,
     "metadata": {},
     "output_type": "execute_result"
    }
   ],
   "source": [
    "mystring.split('e')"
   ]
  },
  {
   "cell_type": "code",
   "execution_count": 24,
   "id": "e5bce1ad",
   "metadata": {},
   "outputs": [],
   "source": [
    "my_list= [1,'string', 23.2]"
   ]
  },
  {
   "cell_type": "code",
   "execution_count": 11,
   "id": "d72b592d",
   "metadata": {},
   "outputs": [
    {
     "data": {
      "text/plain": [
       "{1, 23.2, 'string'}"
      ]
     },
     "execution_count": 11,
     "metadata": {},
     "output_type": "execute_result"
    }
   ],
   "source": [
    "my_list"
   ]
  },
  {
   "cell_type": "code",
   "execution_count": 21,
   "id": "574dda26",
   "metadata": {},
   "outputs": [
    {
     "data": {
      "text/plain": [
       "3"
      ]
     },
     "execution_count": 21,
     "metadata": {},
     "output_type": "execute_result"
    }
   ],
   "source": [
    "len(my_list)"
   ]
  },
  {
   "cell_type": "code",
   "execution_count": 26,
   "id": "7ce521f1",
   "metadata": {},
   "outputs": [
    {
     "data": {
      "text/plain": [
       "'string'"
      ]
     },
     "execution_count": 26,
     "metadata": {},
     "output_type": "execute_result"
    }
   ],
   "source": [
    "my_list[1] #indexing"
   ]
  },
  {
   "cell_type": "code",
   "execution_count": 27,
   "id": "ea5c9dd3",
   "metadata": {},
   "outputs": [
    {
     "data": {
      "text/plain": [
       "['string', 23.2]"
      ]
     },
     "execution_count": 27,
     "metadata": {},
     "output_type": "execute_result"
    }
   ],
   "source": [
    "my_list[1:]"
   ]
  },
  {
   "cell_type": "code",
   "execution_count": 28,
   "id": "d6ffe369",
   "metadata": {},
   "outputs": [
    {
     "data": {
      "text/plain": [
       "[1, 'string', 23.2]"
      ]
     },
     "execution_count": 28,
     "metadata": {},
     "output_type": "execute_result"
    }
   ],
   "source": [
    "my_list"
   ]
  },
  {
   "cell_type": "code",
   "execution_count": 29,
   "id": "97d73cb5",
   "metadata": {},
   "outputs": [
    {
     "data": {
      "text/plain": [
       "[1, 'string']"
      ]
     },
     "execution_count": 29,
     "metadata": {},
     "output_type": "execute_result"
    }
   ],
   "source": [
    "my_list[0:2]"
   ]
  },
  {
   "cell_type": "code",
   "execution_count": 30,
   "id": "e3ce1dd1",
   "metadata": {},
   "outputs": [
    {
     "data": {
      "text/plain": [
       "[1, 'string', 23.2]"
      ]
     },
     "execution_count": 30,
     "metadata": {},
     "output_type": "execute_result"
    }
   ],
   "source": [
    "my_list"
   ]
  },
  {
   "cell_type": "code",
   "execution_count": 31,
   "id": "daae187d",
   "metadata": {},
   "outputs": [],
   "source": [
    "second_list=[4,5,'six']"
   ]
  },
  {
   "cell_type": "code",
   "execution_count": 33,
   "id": "1dca4481",
   "metadata": {},
   "outputs": [],
   "source": [
    "new_list=my_list+second_list"
   ]
  },
  {
   "cell_type": "code",
   "execution_count": 34,
   "id": "8c73c9a3",
   "metadata": {},
   "outputs": [
    {
     "data": {
      "text/plain": [
       "[1, 'string', 23.2, 4, 5, 'six']"
      ]
     },
     "execution_count": 34,
     "metadata": {},
     "output_type": "execute_result"
    }
   ],
   "source": [
    "new_list"
   ]
  },
  {
   "cell_type": "code",
   "execution_count": 35,
   "id": "5d70dc70",
   "metadata": {},
   "outputs": [
    {
     "data": {
      "text/plain": [
       "[4, 5, 'six']"
      ]
     },
     "execution_count": 35,
     "metadata": {},
     "output_type": "execute_result"
    }
   ],
   "source": [
    "second_list"
   ]
  },
  {
   "cell_type": "code",
   "execution_count": 37,
   "id": "3c071c6a",
   "metadata": {},
   "outputs": [],
   "source": [
    "second_list[0] = 'MAUSAM'"
   ]
  },
  {
   "cell_type": "code",
   "execution_count": 38,
   "id": "6a3161f1",
   "metadata": {},
   "outputs": [
    {
     "data": {
      "text/plain": [
       "['MAUSAM', 5, 'six']"
      ]
     },
     "execution_count": 38,
     "metadata": {},
     "output_type": "execute_result"
    }
   ],
   "source": [
    "second_list"
   ]
  },
  {
   "cell_type": "code",
   "execution_count": 39,
   "id": "11547fb3",
   "metadata": {},
   "outputs": [],
   "source": [
    "mstring='HELLO'\n"
   ]
  },
  {
   "cell_type": "code",
   "execution_count": 40,
   "id": "de992885",
   "metadata": {},
   "outputs": [
    {
     "data": {
      "text/plain": [
       "'H'"
      ]
     },
     "execution_count": 40,
     "metadata": {},
     "output_type": "execute_result"
    }
   ],
   "source": [
    "mstring[0]"
   ]
  },
  {
   "cell_type": "code",
   "execution_count": 42,
   "id": "c6565eb6",
   "metadata": {},
   "outputs": [],
   "source": [
    "newstring=mstring[1:]"
   ]
  },
  {
   "cell_type": "code",
   "execution_count": 43,
   "id": "9e9a06ef",
   "metadata": {},
   "outputs": [
    {
     "data": {
      "text/plain": [
       "'ELLO'"
      ]
     },
     "execution_count": 43,
     "metadata": {},
     "output_type": "execute_result"
    }
   ],
   "source": [
    "newstring"
   ]
  },
  {
   "cell_type": "code",
   "execution_count": 45,
   "id": "cce360b5",
   "metadata": {},
   "outputs": [],
   "source": [
    "new_word='G'+newstring"
   ]
  },
  {
   "cell_type": "code",
   "execution_count": 46,
   "id": "98968e41",
   "metadata": {},
   "outputs": [
    {
     "data": {
      "text/plain": [
       "'GELLO'"
      ]
     },
     "execution_count": 46,
     "metadata": {},
     "output_type": "execute_result"
    }
   ],
   "source": [
    "new_word"
   ]
  },
  {
   "cell_type": "code",
   "execution_count": 47,
   "id": "8c7244f2",
   "metadata": {},
   "outputs": [
    {
     "data": {
      "text/plain": [
       "['MAUSAM', 5, 'six']"
      ]
     },
     "execution_count": 47,
     "metadata": {},
     "output_type": "execute_result"
    }
   ],
   "source": [
    "second_list"
   ]
  },
  {
   "cell_type": "code",
   "execution_count": 48,
   "id": "4b2470c3",
   "metadata": {},
   "outputs": [],
   "source": [
    "second_list.append('mausam')"
   ]
  },
  {
   "cell_type": "code",
   "execution_count": 49,
   "id": "2572d5be",
   "metadata": {},
   "outputs": [
    {
     "data": {
      "text/plain": [
       "['MAUSAM', 5, 'six', 'mausam']"
      ]
     },
     "execution_count": 49,
     "metadata": {},
     "output_type": "execute_result"
    }
   ],
   "source": [
    "second_list"
   ]
  },
  {
   "cell_type": "code",
   "execution_count": 50,
   "id": "ce9a4494",
   "metadata": {},
   "outputs": [
    {
     "data": {
      "text/plain": [
       "'six'"
      ]
     },
     "execution_count": 50,
     "metadata": {},
     "output_type": "execute_result"
    }
   ],
   "source": [
    "second_list.pop(2)"
   ]
  },
  {
   "cell_type": "code",
   "execution_count": 51,
   "id": "d1f5304d",
   "metadata": {},
   "outputs": [
    {
     "data": {
      "text/plain": [
       "['MAUSAM', 5, 'mausam']"
      ]
     },
     "execution_count": 51,
     "metadata": {},
     "output_type": "execute_result"
    }
   ],
   "source": [
    "second_list"
   ]
  },
  {
   "cell_type": "code",
   "execution_count": 52,
   "id": "87804c55",
   "metadata": {},
   "outputs": [],
   "source": [
    "new_list=[2,3,'hye', 4,5]"
   ]
  },
  {
   "cell_type": "code",
   "execution_count": 53,
   "id": "f31ec1c6",
   "metadata": {},
   "outputs": [
    {
     "data": {
      "text/plain": [
       "5"
      ]
     },
     "execution_count": 53,
     "metadata": {},
     "output_type": "execute_result"
    }
   ],
   "source": [
    "new_list[-1]"
   ]
  },
  {
   "cell_type": "code",
   "execution_count": 54,
   "id": "53a1c563",
   "metadata": {},
   "outputs": [],
   "source": [
    "new_list=['a','x','c','z','b',]\n",
    "num_list=[5,7,1,2,8]"
   ]
  },
  {
   "cell_type": "code",
   "execution_count": 55,
   "id": "1bcd5f2e",
   "metadata": {},
   "outputs": [],
   "source": [
    "num_list.sort()"
   ]
  },
  {
   "cell_type": "code",
   "execution_count": 57,
   "id": "2f866e4a",
   "metadata": {},
   "outputs": [],
   "source": [
    "sorted_list = num_list"
   ]
  },
  {
   "cell_type": "raw",
   "id": "850853bf",
   "metadata": {},
   "source": [
    "sorted_list"
   ]
  },
  {
   "cell_type": "code",
   "execution_count": 58,
   "id": "2dc9ed53",
   "metadata": {},
   "outputs": [
    {
     "data": {
      "text/plain": [
       "[1, 2, 5, 7, 8]"
      ]
     },
     "execution_count": 58,
     "metadata": {},
     "output_type": "execute_result"
    }
   ],
   "source": [
    "sorted_list"
   ]
  },
  {
   "cell_type": "code",
   "execution_count": 59,
   "id": "c31028e1",
   "metadata": {},
   "outputs": [],
   "source": [
    "new_list.reverse()"
   ]
  },
  {
   "cell_type": "code",
   "execution_count": 61,
   "id": "5f5f5507",
   "metadata": {},
   "outputs": [],
   "source": [
    "reverse_list=new_list"
   ]
  },
  {
   "cell_type": "code",
   "execution_count": 62,
   "id": "4b4dd1ba",
   "metadata": {},
   "outputs": [
    {
     "data": {
      "text/plain": [
       "['b', 'z', 'c', 'x', 'a']"
      ]
     },
     "execution_count": 62,
     "metadata": {},
     "output_type": "execute_result"
    }
   ],
   "source": [
    "reverse_list"
   ]
  },
  {
   "cell_type": "code",
   "execution_count": 63,
   "id": "48f00d28",
   "metadata": {},
   "outputs": [],
   "source": [
    "g=None"
   ]
  },
  {
   "cell_type": "code",
   "execution_count": 64,
   "id": "e306a3f5",
   "metadata": {},
   "outputs": [],
   "source": [
    "my_list=[5,1,[1,2]]"
   ]
  },
  {
   "cell_type": "code",
   "execution_count": 65,
   "id": "617af12d",
   "metadata": {},
   "outputs": [
    {
     "data": {
      "text/plain": [
       "[5, 1, [1, 2]]"
      ]
     },
     "execution_count": 65,
     "metadata": {},
     "output_type": "execute_result"
    }
   ],
   "source": [
    "my_list"
   ]
  },
  {
   "cell_type": "code",
   "execution_count": 66,
   "id": "4827e014",
   "metadata": {},
   "outputs": [
    {
     "data": {
      "text/plain": [
       "[1, 2]"
      ]
     },
     "execution_count": 66,
     "metadata": {},
     "output_type": "execute_result"
    }
   ],
   "source": [
    "my_list[2]"
   ]
  },
  {
   "cell_type": "code",
   "execution_count": 67,
   "id": "34ee306c",
   "metadata": {},
   "outputs": [
    {
     "data": {
      "text/plain": [
       "5"
      ]
     },
     "execution_count": 67,
     "metadata": {},
     "output_type": "execute_result"
    }
   ],
   "source": [
    "my_list[0]"
   ]
  },
  {
   "cell_type": "code",
   "execution_count": 69,
   "id": "9fc2669b",
   "metadata": {},
   "outputs": [
    {
     "data": {
      "text/plain": [
       "2"
      ]
     },
     "execution_count": 69,
     "metadata": {},
     "output_type": "execute_result"
    }
   ],
   "source": [
    "my_list[2][1]"
   ]
  },
  {
   "cell_type": "code",
   "execution_count": 70,
   "id": "64f2ad44",
   "metadata": {},
   "outputs": [],
   "source": [
    "#if list=[0,1,2,] what is the result of list.pop()"
   ]
  },
  {
   "cell_type": "markdown",
   "id": "c401deb1",
   "metadata": {},
   "source": []
  },
  {
   "cell_type": "code",
   "execution_count": null,
   "id": "40211c1b",
   "metadata": {},
   "outputs": [],
   "source": []
  },
  {
   "cell_type": "code",
   "execution_count": 72,
   "id": "6256ede5",
   "metadata": {},
   "outputs": [],
   "source": [
    "#DISTONARIES"
   ]
  },
  {
   "cell_type": "code",
   "execution_count": 73,
   "id": "766b3a3c",
   "metadata": {},
   "outputs": [],
   "source": [
    "my_dict= {'key1':'value2','key2':'value2','key3':'value3'}"
   ]
  },
  {
   "cell_type": "code",
   "execution_count": 74,
   "id": "d1933878",
   "metadata": {},
   "outputs": [
    {
     "data": {
      "text/plain": [
       "{'key1': 'value2', 'key2': 'value2', 'key3': 'value3'}"
      ]
     },
     "execution_count": 74,
     "metadata": {},
     "output_type": "execute_result"
    }
   ],
   "source": [
    "my_dict"
   ]
  },
  {
   "cell_type": "code",
   "execution_count": 75,
   "id": "0d6e3c12",
   "metadata": {},
   "outputs": [],
   "source": [
    "prices_lookup={'apple':200,'banana':90,'mango':70}"
   ]
  },
  {
   "cell_type": "code",
   "execution_count": 76,
   "id": "585a8123",
   "metadata": {},
   "outputs": [
    {
     "data": {
      "text/plain": [
       "{'apple': 200, 'banana': 90, 'mango': 70}"
      ]
     },
     "execution_count": 76,
     "metadata": {},
     "output_type": "execute_result"
    }
   ],
   "source": [
    "prices_lookup"
   ]
  },
  {
   "cell_type": "code",
   "execution_count": 77,
   "id": "3ce9549e",
   "metadata": {},
   "outputs": [
    {
     "data": {
      "text/plain": [
       "200"
      ]
     },
     "execution_count": 77,
     "metadata": {},
     "output_type": "execute_result"
    }
   ],
   "source": [
    "prices_lookup['apple']"
   ]
  },
  {
   "cell_type": "code",
   "execution_count": 78,
   "id": "7542126c",
   "metadata": {},
   "outputs": [
    {
     "data": {
      "text/plain": [
       "70"
      ]
     },
     "execution_count": 78,
     "metadata": {},
     "output_type": "execute_result"
    }
   ],
   "source": [
    "prices_lookup['mango']"
   ]
  },
  {
   "cell_type": "code",
   "execution_count": 85,
   "id": "eeda6f57",
   "metadata": {},
   "outputs": [],
   "source": [
    "mausam = {'k1':100,'k2':[1,2,3],'k3':{'inside_key':100}}"
   ]
  },
  {
   "cell_type": "code",
   "execution_count": 86,
   "id": "ff17d48f",
   "metadata": {},
   "outputs": [
    {
     "data": {
      "text/plain": [
       "100"
      ]
     },
     "execution_count": 86,
     "metadata": {},
     "output_type": "execute_result"
    }
   ],
   "source": [
    "mausam['k1']"
   ]
  },
  {
   "cell_type": "code",
   "execution_count": 87,
   "id": "0247f82c",
   "metadata": {},
   "outputs": [
    {
     "data": {
      "text/plain": [
       "2"
      ]
     },
     "execution_count": 87,
     "metadata": {},
     "output_type": "execute_result"
    }
   ],
   "source": [
    "mausam['k2'][1]"
   ]
  },
  {
   "cell_type": "code",
   "execution_count": 88,
   "id": "1e8007b5",
   "metadata": {},
   "outputs": [
    {
     "data": {
      "text/plain": [
       "{'inside_key': 100}"
      ]
     },
     "execution_count": 88,
     "metadata": {},
     "output_type": "execute_result"
    }
   ],
   "source": [
    "mausam['k3']"
   ]
  },
  {
   "cell_type": "code",
   "execution_count": 89,
   "id": "535ce0ec",
   "metadata": {},
   "outputs": [
    {
     "data": {
      "text/plain": [
       "100"
      ]
     },
     "execution_count": 89,
     "metadata": {},
     "output_type": "execute_result"
    }
   ],
   "source": [
    "mausam['k3']['inside_key']"
   ]
  },
  {
   "cell_type": "code",
   "execution_count": null,
   "id": "8cf30aa6",
   "metadata": {},
   "outputs": [],
   "source": [
    "newmausam = {'apple':100, }"
   ]
  }
 ],
 "metadata": {
  "kernelspec": {
   "display_name": "Python 3 (ipykernel)",
   "language": "python",
   "name": "python3"
  },
  "language_info": {
   "codemirror_mode": {
    "name": "ipython",
    "version": 3
   },
   "file_extension": ".py",
   "mimetype": "text/x-python",
   "name": "python",
   "nbconvert_exporter": "python",
   "pygments_lexer": "ipython3",
   "version": "3.9.12"
  }
 },
 "nbformat": 4,
 "nbformat_minor": 5
}
