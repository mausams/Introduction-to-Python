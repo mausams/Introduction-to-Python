{
 "cells": [
  {
   "cell_type": "code",
   "execution_count": 1,
   "id": "8a2f47a5",
   "metadata": {},
   "outputs": [
    {
     "data": {
      "text/plain": [
       "'hello'"
      ]
     },
     "execution_count": 1,
     "metadata": {},
     "output_type": "execute_result"
    }
   ],
   "source": [
    "'hello'"
   ]
  },
  {
   "cell_type": "code",
   "execution_count": 2,
   "id": "c2e56caa",
   "metadata": {},
   "outputs": [
    {
     "data": {
      "text/plain": [
       "'HELLO'"
      ]
     },
     "execution_count": 2,
     "metadata": {},
     "output_type": "execute_result"
    }
   ],
   "source": [
    "\"HELLO\"\n"
   ]
  },
  {
   "cell_type": "code",
   "execution_count": 3,
   "id": "f297e6ca",
   "metadata": {},
   "outputs": [
    {
     "name": "stdout",
     "output_type": "stream",
     "text": [
      "HELLO\n"
     ]
    }
   ],
   "source": [
    "print('HELLO')"
   ]
  },
  {
   "cell_type": "code",
   "execution_count": 5,
   "id": "f39e9b75",
   "metadata": {},
   "outputs": [
    {
     "name": "stdout",
     "output_type": "stream",
     "text": [
      "it is a beautiful day! \n",
      "I want to get out\n"
     ]
    }
   ],
   "source": [
    "print ('it is a beautiful day! \\nI want to get out')"
   ]
  },
  {
   "cell_type": "code",
   "execution_count": 6,
   "id": "7c6e247b",
   "metadata": {},
   "outputs": [
    {
     "name": "stdout",
     "output_type": "stream",
     "text": [
      "python uses indentation \t those are species\n"
     ]
    }
   ],
   "source": [
    "print ('python uses indentation \\t those are species')"
   ]
  },
  {
   "cell_type": "code",
   "execution_count": 19,
   "id": "a6b9588c",
   "metadata": {},
   "outputs": [],
   "source": [
    "my_strings = 'monday'"
   ]
  },
  {
   "cell_type": "code",
   "execution_count": 20,
   "id": "a64f211e",
   "metadata": {
    "scrolled": true
   },
   "outputs": [
    {
     "data": {
      "text/plain": [
       "'monday'"
      ]
     },
     "execution_count": 20,
     "metadata": {},
     "output_type": "execute_result"
    }
   ],
   "source": [
    "my_strings"
   ]
  },
  {
   "cell_type": "code",
   "execution_count": 22,
   "id": "ad07c649",
   "metadata": {},
   "outputs": [],
   "source": [
    "my_strings = 'friday'"
   ]
  },
  {
   "cell_type": "code",
   "execution_count": 37,
   "id": "3df5e2ce",
   "metadata": {},
   "outputs": [],
   "source": [
    "len = ('my-strings')"
   ]
  },
  {
   "cell_type": "code",
   "execution_count": 33,
   "id": "06bc211f",
   "metadata": {},
   "outputs": [],
   "source": [
    "my_strings =4\n"
   ]
  },
  {
   "cell_type": "code",
   "execution_count": 8,
   "id": "20cf82d9",
   "metadata": {},
   "outputs": [],
   "source": [
    "#indexing"
   ]
  },
  {
   "cell_type": "code",
   "execution_count": 9,
   "id": "216ecece",
   "metadata": {},
   "outputs": [],
   "source": [
    "mystring = 'hello World'"
   ]
  },
  {
   "cell_type": "code",
   "execution_count": 10,
   "id": "853c2519",
   "metadata": {},
   "outputs": [
    {
     "data": {
      "text/plain": [
       "'hello World'"
      ]
     },
     "execution_count": 10,
     "metadata": {},
     "output_type": "execute_result"
    }
   ],
   "source": [
    "mystring"
   ]
  },
  {
   "cell_type": "code",
   "execution_count": 12,
   "id": "f6bed336",
   "metadata": {},
   "outputs": [
    {
     "data": {
      "text/plain": [
       "'ello World'"
      ]
     },
     "execution_count": 12,
     "metadata": {},
     "output_type": "execute_result"
    }
   ],
   "source": [
    "mystring[1:]"
   ]
  },
  {
   "cell_type": "code",
   "execution_count": 13,
   "id": "f0c1e697",
   "metadata": {},
   "outputs": [
    {
     "data": {
      "text/plain": [
       "'hell'"
      ]
     },
     "execution_count": 13,
     "metadata": {},
     "output_type": "execute_result"
    }
   ],
   "source": [
    "mystring[:4]"
   ]
  },
  {
   "cell_type": "code",
   "execution_count": 14,
   "id": "952c745b",
   "metadata": {},
   "outputs": [],
   "source": [
    "#sclicing [start:stop:step]"
   ]
  },
  {
   "cell_type": "code",
   "execution_count": 15,
   "id": "e5e07576",
   "metadata": {},
   "outputs": [],
   "source": [
    "mystrings = 'MausamSubbaLimboo'"
   ]
  },
  {
   "cell_type": "code",
   "execution_count": 16,
   "id": "7709216a",
   "metadata": {},
   "outputs": [
    {
     "data": {
      "text/plain": [
       "'MausamSubbaLimboo'"
      ]
     },
     "execution_count": 16,
     "metadata": {},
     "output_type": "execute_result"
    }
   ],
   "source": [
    "mystrings"
   ]
  },
  {
   "cell_type": "code",
   "execution_count": 38,
   "id": "7cbbc643",
   "metadata": {},
   "outputs": [
    {
     "data": {
      "text/plain": [
       "'MausamSubbaLimboo'"
      ]
     },
     "execution_count": 38,
     "metadata": {},
     "output_type": "execute_result"
    }
   ],
   "source": [
    "mystrings[0:]"
   ]
  },
  {
   "cell_type": "code",
   "execution_count": 39,
   "id": "099af60d",
   "metadata": {},
   "outputs": [
    {
     "data": {
      "text/plain": [
       "'Mausa'"
      ]
     },
     "execution_count": 39,
     "metadata": {},
     "output_type": "execute_result"
    }
   ],
   "source": [
    "mystrings[0:5]"
   ]
  },
  {
   "cell_type": "raw",
   "id": "3d253177",
   "metadata": {},
   "source": []
  }
 ],
 "metadata": {
  "kernelspec": {
   "display_name": "Python 3 (ipykernel)",
   "language": "python",
   "name": "python3"
  },
  "language_info": {
   "codemirror_mode": {
    "name": "ipython",
    "version": 3
   },
   "file_extension": ".py",
   "mimetype": "text/x-python",
   "name": "python",
   "nbconvert_exporter": "python",
   "pygments_lexer": "ipython3",
   "version": "3.9.12"
  }
 },
 "nbformat": 4,
 "nbformat_minor": 5
}
