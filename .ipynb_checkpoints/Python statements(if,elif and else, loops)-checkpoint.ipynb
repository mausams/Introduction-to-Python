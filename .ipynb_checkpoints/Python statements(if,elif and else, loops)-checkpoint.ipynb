{
 "cells": [
  {
   "cell_type": "code",
   "execution_count": 1,
   "id": "f056ab13",
   "metadata": {},
   "outputs": [],
   "source": [
    "#if, elif, and else"
   ]
  },
  {
   "cell_type": "code",
   "execution_count": 2,
   "id": "3b9f5096",
   "metadata": {},
   "outputs": [],
   "source": [
    "#if some_condition:\n",
    "   #do_something\n",
    "#else:\n",
    "   #do_something else"
   ]
  },
  {
   "cell_type": "code",
   "execution_count": 3,
   "id": "933a8b57",
   "metadata": {},
   "outputs": [
    {
     "name": "stdout",
     "output_type": "stream",
     "text": [
      "Its True\n"
     ]
    }
   ],
   "source": [
    "if True:\n",
    "    print(\"Its True\")"
   ]
  },
  {
   "cell_type": "code",
   "execution_count": 4,
   "id": "fe3dc638",
   "metadata": {},
   "outputs": [],
   "source": [
    "if 3<2:\n",
    "    print(\"Its True\")"
   ]
  },
  {
   "cell_type": "code",
   "execution_count": 6,
   "id": "5f9e976d",
   "metadata": {},
   "outputs": [
    {
     "name": "stdout",
     "output_type": "stream",
     "text": [
      "Im not hungry\n"
     ]
    }
   ],
   "source": [
    "hungry =False\n",
    "if hungry:\n",
    "    print('FEED ME!')\n",
    "else:\n",
    "    print('Im not hungry')"
   ]
  },
  {
   "cell_type": "code",
   "execution_count": 10,
   "id": "652edced",
   "metadata": {},
   "outputs": [
    {
     "name": "stdout",
     "output_type": "stream",
     "text": [
      "I do not know much!\n"
     ]
    }
   ],
   "source": [
    "loc ='abcd'\n",
    "if loc =='Auto Shop':\n",
    "   print('Cars are cool')\n",
    "elif loc =='Bank':\n",
    "   print('Money is cool')\n",
    "elif loc=='store':\n",
    "    print('Welcome to the store')\n",
    "else:\n",
    "    print('I do not know much!')"
   ]
  },
  {
   "cell_type": "code",
   "execution_count": 11,
   "id": "e430ba2a",
   "metadata": {},
   "outputs": [
    {
     "name": "stdout",
     "output_type": "stream",
     "text": [
      "Practice prog everyday\n"
     ]
    }
   ],
   "source": [
    "name ='Lakpa'\n",
    "if name =='Lakpa':\n",
    "   print('Practice prog everyday')\n",
    "elif name =='Pavas':\n",
    "   print('concentrete more')\n",
    "elif name=='superman':\n",
    "    print('He can fly')\n",
    "else:\n",
    "    print('We have nothing to say')"
   ]
  },
  {
   "cell_type": "code",
   "execution_count": 12,
   "id": "feb55ab2",
   "metadata": {},
   "outputs": [],
   "source": [
    "#For loops"
   ]
  },
  {
   "cell_type": "code",
   "execution_count": 14,
   "id": "a882eb75",
   "metadata": {},
   "outputs": [
    {
     "name": "stdout",
     "output_type": "stream",
     "text": [
      "1\n",
      "2\n",
      "3\n"
     ]
    }
   ],
   "source": [
    "#Syntax of a far loop\n",
    "my_iterable = [1,2,3]\n",
    "for item in my_iterable:\n",
    "     print(item)"
   ]
  },
  {
   "cell_type": "code",
   "execution_count": 16,
   "id": "37c76767",
   "metadata": {},
   "outputs": [
    {
     "name": "stdout",
     "output_type": "stream",
     "text": [
      "I am Handsome\n",
      "I am Handsome\n",
      "I am Handsome\n",
      "I am Handsome\n",
      "I am Handsome\n",
      "I am Handsome\n",
      "I am Handsome\n",
      "I am Handsome\n",
      "I am Handsome\n",
      "I am Handsome\n"
     ]
    }
   ],
   "source": [
    "mylist=[1,2,3,4,5,6,7,8,9,10]\n",
    "for num in mylist:\n",
    "    print('I am Handsome')"
   ]
  },
  {
   "cell_type": "code",
   "execution_count": 17,
   "id": "583e4d62",
   "metadata": {},
   "outputs": [
    {
     "name": "stdout",
     "output_type": "stream",
     "text": [
      "Odd number:1\n",
      "2\n",
      "Odd number:3\n",
      "4\n",
      "Odd number:5\n",
      "6\n",
      "Odd number:7\n",
      "8\n",
      "Odd number:9\n",
      "10\n"
     ]
    }
   ],
   "source": [
    "mylist=[1,2,3,4,5,6,7,8,9,10]\n",
    "for num in mylist:\n",
    "    if num%2==0:\n",
    "        print(num)\n",
    "    else:\n",
    "        print(f'Odd number:{num}')"
   ]
  },
  {
   "cell_type": "code",
   "execution_count": 18,
   "id": "eb310a6a",
   "metadata": {},
   "outputs": [
    {
     "name": "stdout",
     "output_type": "stream",
     "text": [
      "1\n",
      "3\n",
      "6\n",
      "10\n",
      "15\n",
      "21\n",
      "28\n",
      "36\n",
      "45\n",
      "55\n"
     ]
    }
   ],
   "source": [
    "mylist=[1,2,3,4,5,6,7,8,9,10]\n",
    "list_sum=0\n",
    "for num in mylist:\n",
    "    list_sum = list_sum+num\n",
    "    print(list_sum)"
   ]
  },
  {
   "cell_type": "code",
   "execution_count": 19,
   "id": "a38a645a",
   "metadata": {},
   "outputs": [
    {
     "name": "stdout",
     "output_type": "stream",
     "text": [
      "H\n",
      "e\n",
      "l\n",
      "l\n",
      "o\n",
      " \n",
      "W\n",
      "o\n",
      "r\n",
      "l\n",
      "d\n"
     ]
    }
   ],
   "source": [
    "mystring='Hello World'\n",
    "for letter in mystring:\n",
    "    print(letter)"
   ]
  },
  {
   "cell_type": "code",
   "execution_count": 20,
   "id": "52f8f91a",
   "metadata": {},
   "outputs": [
    {
     "name": "stdout",
     "output_type": "stream",
     "text": [
      "Happy\n",
      "Happy\n",
      "Happy\n",
      "Happy\n",
      "Happy\n",
      "Happy\n",
      "Happy\n"
     ]
    }
   ],
   "source": [
    "for item in 'Medhavi':\n",
    "    print('Happy')"
   ]
  },
  {
   "cell_type": "code",
   "execution_count": 21,
   "id": "0447b14d",
   "metadata": {},
   "outputs": [
    {
     "name": "stdout",
     "output_type": "stream",
     "text": [
      "1\n",
      "2\n",
      "3\n"
     ]
    }
   ],
   "source": [
    "tup=(1,2,3)\n",
    "for item in tup:\n",
    "    print(item)"
   ]
  },
  {
   "cell_type": "code",
   "execution_count": 22,
   "id": "dfdd85d9",
   "metadata": {},
   "outputs": [
    {
     "name": "stdout",
     "output_type": "stream",
     "text": [
      "(1, 2)\n",
      "(3, 4)\n",
      "(5, 6)\n",
      "(7, 9)\n",
      "(10, 11)\n"
     ]
    }
   ],
   "source": [
    "mylist=[(1,2),(3,4),(5,6),(7,9),(10,11)]\n",
    "for item in mylist:\n",
    "    print(item)"
   ]
  },
  {
   "cell_type": "code",
   "execution_count": 23,
   "id": "9e12ae39",
   "metadata": {
    "scrolled": true
   },
   "outputs": [
    {
     "name": "stdout",
     "output_type": "stream",
     "text": [
      "1\n",
      "2\n",
      "3\n",
      "4\n",
      "5\n",
      "6\n",
      "7\n",
      "9\n",
      "10\n",
      "11\n"
     ]
    }
   ],
   "source": [
    "mylist=[(1,2),(3,4),(5,6),(7,9),(10,11)]\n",
    "for (a,b) in mylist:\n",
    "    print(a)\n",
    "    print(b)"
   ]
  },
  {
   "cell_type": "code",
   "execution_count": 24,
   "id": "1cb8bc2f",
   "metadata": {},
   "outputs": [
    {
     "name": "stdout",
     "output_type": "stream",
     "text": [
      "2\n",
      "1\n",
      "4\n",
      "3\n",
      "6\n",
      "5\n",
      "9\n",
      "7\n",
      "11\n",
      "10\n"
     ]
    }
   ],
   "source": [
    "mylist=[(1,2),(3,4),(5,6),(7,9),(10,11)]\n",
    "for b,a in mylist:\n",
    "    print(a)\n",
    "    print(b)"
   ]
  },
  {
   "cell_type": "code",
   "execution_count": 25,
   "id": "71147259",
   "metadata": {},
   "outputs": [
    {
     "name": "stdout",
     "output_type": "stream",
     "text": [
      "2\n",
      "4\n",
      "6\n",
      "9\n",
      "11\n"
     ]
    }
   ],
   "source": [
    "mylist=[(1,2),(3,4),(5,6),(7,9),(10,11)]\n",
    "for b,a in mylist:\n",
    "    print(a)\n",
    "    #print(b)"
   ]
  },
  {
   "cell_type": "code",
   "execution_count": 26,
   "id": "cc5df370",
   "metadata": {},
   "outputs": [
    {
     "name": "stdout",
     "output_type": "stream",
     "text": [
      "1\n",
      "2\n",
      "4\n",
      "6\n",
      "7\n",
      "9\n",
      "10\n",
      "11\n",
      "13\n"
     ]
    }
   ],
   "source": [
    "mylist=[(1,2,4),(6,7,9),(10,11,13)]\n",
    "for fv1, fv2, fv3 in mylist:\n",
    "    print(fv1)\n",
    "    print(fv2)\n",
    "    print(fv3)"
   ]
  },
  {
   "cell_type": "code",
   "execution_count": 27,
   "id": "b862a2bc",
   "metadata": {},
   "outputs": [
    {
     "name": "stdout",
     "output_type": "stream",
     "text": [
      "k1\n",
      "k2\n",
      "k3\n"
     ]
    }
   ],
   "source": [
    "d = {'k1':1, 'k2':2, 'k3':3}\n",
    "for item in d.keys():\n",
    "    print(item)"
   ]
  },
  {
   "cell_type": "code",
   "execution_count": 28,
   "id": "540a84fe",
   "metadata": {},
   "outputs": [
    {
     "name": "stdout",
     "output_type": "stream",
     "text": [
      "1\n",
      "2\n",
      "3\n"
     ]
    }
   ],
   "source": [
    "d= {'k1':1,'k2':2,'k3':3,}\n",
    "for item in d.values():\n",
    "    print(item)"
   ]
  },
  {
   "cell_type": "code",
   "execution_count": 30,
   "id": "6a20b13a",
   "metadata": {},
   "outputs": [
    {
     "name": "stdout",
     "output_type": "stream",
     "text": [
      "3\n",
      "3\n",
      "3\n"
     ]
    }
   ],
   "source": [
    "d= {'k1':1,'k2':2,'k3':3,}\n",
    "for key,value in d:\n",
    "    print(item)"
   ]
  },
  {
   "cell_type": "code",
   "execution_count": 33,
   "id": "ae6f55cf",
   "metadata": {},
   "outputs": [
    {
     "name": "stdout",
     "output_type": "stream",
     "text": [
      "3\n",
      "3\n",
      "3\n"
     ]
    }
   ],
   "source": [
    "d = {'k1':1,'k2':2,'k3':3}\n",
    "for values in d.values():\n",
    "    print(item)"
   ]
  },
  {
   "cell_type": "code",
   "execution_count": null,
   "id": "40d83c5b",
   "metadata": {},
   "outputs": [],
   "source": []
  }
 ],
 "metadata": {
  "kernelspec": {
   "display_name": "Python 3 (ipykernel)",
   "language": "python",
   "name": "python3"
  },
  "language_info": {
   "codemirror_mode": {
    "name": "ipython",
    "version": 3
   },
   "file_extension": ".py",
   "mimetype": "text/x-python",
   "name": "python",
   "nbconvert_exporter": "python",
   "pygments_lexer": "ipython3",
   "version": "3.9.12"
  }
 },
 "nbformat": 4,
 "nbformat_minor": 5
}
