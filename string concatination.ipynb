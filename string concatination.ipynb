{
 "cells": [
  {
   "cell_type": "code",
   "execution_count": 1,
   "id": "83b99935",
   "metadata": {},
   "outputs": [
    {
     "data": {
      "text/plain": [
       "'4043'"
      ]
     },
     "execution_count": 1,
     "metadata": {},
     "output_type": "execute_result"
    }
   ],
   "source": [
    "'40' +'43'"
   ]
  },
  {
   "cell_type": "code",
   "execution_count": 2,
   "id": "722d434d",
   "metadata": {},
   "outputs": [],
   "source": [
    "#String concatination"
   ]
  },
  {
   "cell_type": "code",
   "execution_count": 3,
   "id": "54bca1c2",
   "metadata": {},
   "outputs": [],
   "source": [
    "x = 'Hello World'"
   ]
  },
  {
   "cell_type": "code",
   "execution_count": 4,
   "id": "25bda7ce",
   "metadata": {},
   "outputs": [
    {
     "data": {
      "text/plain": [
       "str"
      ]
     },
     "execution_count": 4,
     "metadata": {},
     "output_type": "execute_result"
    }
   ],
   "source": [
    "type(x)"
   ]
  },
  {
   "cell_type": "code",
   "execution_count": 6,
   "id": "77cbfca5",
   "metadata": {},
   "outputs": [
    {
     "data": {
      "text/plain": [
       "'Hello World its beautiful life, beautiful day!'"
      ]
     },
     "execution_count": 6,
     "metadata": {},
     "output_type": "execute_result"
    }
   ],
   "source": [
    "x + ' its beautiful life, beautiful day!'"
   ]
  },
  {
   "cell_type": "code",
   "execution_count": 15,
   "id": "4e127ae6",
   "metadata": {},
   "outputs": [],
   "source": [
    "letter = 'h'"
   ]
  },
  {
   "cell_type": "raw",
   "id": "913d843b",
   "metadata": {},
   "source": []
  },
  {
   "cell_type": "code",
   "execution_count": 16,
   "id": "c544557f",
   "metadata": {},
   "outputs": [
    {
     "data": {
      "text/plain": [
       "'hhhhhhhhhhhhhhhhhhhh'"
      ]
     },
     "execution_count": 16,
     "metadata": {},
     "output_type": "execute_result"
    }
   ],
   "source": [
    "letter * 20"
   ]
  },
  {
   "cell_type": "code",
   "execution_count": null,
   "id": "6d3fb03d",
   "metadata": {},
   "outputs": [],
   "source": []
  },
  {
   "cell_type": "code",
   "execution_count": 18,
   "id": "db44fd6a",
   "metadata": {},
   "outputs": [],
   "source": [
    "x = 'hello world'"
   ]
  },
  {
   "cell_type": "code",
   "execution_count": 20,
   "id": "b1c8acbe",
   "metadata": {},
   "outputs": [
    {
     "data": {
      "text/plain": [
       "'HELLO WORLD'"
      ]
     },
     "execution_count": 20,
     "metadata": {},
     "output_type": "execute_result"
    }
   ],
   "source": [
    "x.upper()"
   ]
  },
  {
   "cell_type": "code",
   "execution_count": 23,
   "id": "a51f474a",
   "metadata": {},
   "outputs": [
    {
     "data": {
      "text/plain": [
       "['he', '', 'o wor', 'd']"
      ]
     },
     "execution_count": 23,
     "metadata": {},
     "output_type": "execute_result"
    }
   ],
   "source": [
    "x.split('l')"
   ]
  },
  {
   "cell_type": "code",
   "execution_count": 24,
   "id": "f31a3d9a",
   "metadata": {},
   "outputs": [
    {
     "data": {
      "text/plain": [
       "'hello world'"
      ]
     },
     "execution_count": 24,
     "metadata": {},
     "output_type": "execute_result"
    }
   ],
   "source": [
    "x.lower()"
   ]
  },
  {
   "cell_type": "code",
   "execution_count": 25,
   "id": "b6ddb198",
   "metadata": {},
   "outputs": [
    {
     "data": {
      "text/plain": [
       "'\\nHEY THIS IS MULYILINE COMMENT\\nIM A MULTILINE\\n'"
      ]
     },
     "execution_count": 25,
     "metadata": {},
     "output_type": "execute_result"
    }
   ],
   "source": [
    "'''\n",
    "HEY THIS IS MULYILINE COMMENT\n",
    "IM A MULTILINE\n",
    "'''"
   ]
  },
  {
   "cell_type": "code",
   "execution_count": 28,
   "id": "ce08e604",
   "metadata": {},
   "outputs": [
    {
     "name": "stdout",
     "output_type": "stream",
     "text": [
      "Hello my name is mausam\n"
     ]
    }
   ],
   "source": [
    "my_name = 'mausam'\n",
    "print('Hello my name is ' + my_name )"
   ]
  },
  {
   "cell_type": "code",
   "execution_count": 30,
   "id": "204107fd",
   "metadata": {},
   "outputs": [],
   "source": [
    "#.format method"
   ]
  },
  {
   "cell_type": "code",
   "execution_count": 31,
   "id": "c2d94d06",
   "metadata": {},
   "outputs": [],
   "source": [
    "#'String here {} {} {}'.format(something1, someething2, something3)\n"
   ]
  },
  {
   "cell_type": "code",
   "execution_count": 33,
   "id": "01233ccc",
   "metadata": {},
   "outputs": [
    {
     "name": "stdout",
     "output_type": "stream",
     "text": [
      "I am a student of Mrdhavi Skills University\n"
     ]
    }
   ],
   "source": [
    "print('I am a student of {}'.format ('Mrdhavi Skills University'))"
   ]
  },
  {
   "cell_type": "code",
   "execution_count": 40,
   "id": "02a943a6",
   "metadata": {},
   "outputs": [
    {
     "name": "stdout",
     "output_type": "stream",
     "text": [
      "The quick brown fox\n"
     ]
    }
   ],
   "source": [
    "print('The {q} {b} {f}'.format(b='brown',q='quick',f='fox'))"
   ]
  },
  {
   "cell_type": "code",
   "execution_count": 41,
   "id": "f4c7df75",
   "metadata": {},
   "outputs": [
    {
     "name": "stdout",
     "output_type": "stream",
     "text": [
      "The fox brown quick\n"
     ]
    }
   ],
   "source": [
    "print('The {2} {0} {1}'.format('brown','quick','fox'))"
   ]
  },
  {
   "cell_type": "code",
   "execution_count": null,
   "id": "037bf76c",
   "metadata": {},
   "outputs": [],
   "source": []
  }
 ],
 "metadata": {
  "kernelspec": {
   "display_name": "Python 3 (ipykernel)",
   "language": "python",
   "name": "python3"
  },
  "language_info": {
   "codemirror_mode": {
    "name": "ipython",
    "version": 3
   },
   "file_extension": ".py",
   "mimetype": "text/x-python",
   "name": "python",
   "nbconvert_exporter": "python",
   "pygments_lexer": "ipython3",
   "version": "3.9.12"
  }
 },
 "nbformat": 4,
 "nbformat_minor": 5
}
